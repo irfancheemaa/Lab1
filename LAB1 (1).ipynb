{
  "nbformat": 4,
  "nbformat_minor": 0,
  "metadata": {
    "colab": {
      "name": "LAB1.ipynb",
      "provenance": [],
      "collapsed_sections": []
    },
    "kernelspec": {
      "name": "python3",
      "display_name": "Python 3"
    }
  },
  "cells": [
    {
      "cell_type": "markdown",
      "metadata": {
        "id": "j4-gpgMhkdWS"
      },
      "source": [
        "–Input the string “Python” as a list of characters from console, delete at least 2 characters, reverse the resultant string and print it.\r\n",
        "Sample input:\r\n",
        "•python\r\n",
        "•Sample output:\r\n",
        "•ntyp\r\n"
      ]
    },
    {
      "cell_type": "code",
      "metadata": {
        "colab": {
          "base_uri": "https://localhost:8080/"
        },
        "id": "SY1Q2z7RktAN",
        "outputId": "ab4214fc-2dad-4b0b-95f3-bf74d7b7cbca"
      },
      "source": [
        "print(\"test\")"
      ],
      "execution_count": 8,
      "outputs": [
        {
          "output_type": "stream",
          "text": [
            "test\n"
          ],
          "name": "stdout"
        }
      ]
    },
    {
      "cell_type": "markdown",
      "metadata": {
        "id": "Do1ptYprkxz7"
      },
      "source": [
        "Creating variables and asking user for input"
      ]
    },
    {
      "cell_type": "code",
      "metadata": {
        "id": "0lq4Tj6UlEmo"
      },
      "source": [
        "def strManipulation(myString): #string manupulation string\r\n",
        "    if len(myString) == 0:\r\n",
        "        return myString\r\n",
        "    else:\r\n",
        "      rev_str = myString[:2] + myString[4:]\r\n",
        "      return rev_str[::-1]"
      ],
      "execution_count": 10,
      "outputs": []
    },
    {
      "cell_type": "code",
      "metadata": {
        "colab": {
          "base_uri": "https://localhost:8080/"
        },
        "id": "NSN0f_zLpCJ4",
        "outputId": "746c1514-de1d-4851-937e-2546e416884c"
      },
      "source": [
        "usrString = input(\"Enter python for testing purpose: \")\r\n",
        "print(strManipulation(usrString))"
      ],
      "execution_count": 11,
      "outputs": [
        {
          "output_type": "stream",
          "text": [
            "Enter python for testing purpose: Python\n",
            "noyP\n"
          ],
          "name": "stdout"
        }
      ]
    },
    {
      "cell_type": "markdown",
      "metadata": {
        "id": "d77MawrKuVT6"
      },
      "source": [
        "     – Take two numbers from user and perform arithmetic operations on them."
      ]
    },
    {
      "cell_type": "code",
      "metadata": {
        "id": "k2h06Q2SuU5y"
      },
      "source": [
        "def add(num1, num2): #creating addition function\r\n",
        "  total = num1 + num2 \r\n",
        "  return total "
      ],
      "execution_count": 12,
      "outputs": []
    },
    {
      "cell_type": "code",
      "metadata": {
        "colab": {
          "base_uri": "https://localhost:8080/"
        },
        "id": "aKztGdXfuhZo",
        "outputId": "32a0993d-0cc1-4c12-a322-edcc2688639f"
      },
      "source": [
        "print(\" This will add two numbers \")\r\n",
        "print()\r\n",
        "# asking user for input\r\n",
        "num1 = float (input(\"Enter your first number: \"))\r\n",
        "num2 = float (input(\"Enter your second number: \"))\r\n",
        "\r\n",
        "print(add(num1,num2))"
      ],
      "execution_count": 13,
      "outputs": [
        {
          "output_type": "stream",
          "text": [
            " This will add two numbers \n",
            "\n",
            "Enter your first number: 100.1\n",
            "Enter your second number: 0.9\n",
            "101.0\n"
          ],
          "name": "stdout"
        }
      ]
    },
    {
      "cell_type": "code",
      "metadata": {
        "id": "8NTVrqbNv5SD"
      },
      "source": [
        "def replaceOccur(sent1): # replacing the occurance of a word\r\n",
        "  sent2 = sent1.replace(\"python\",\"Pythons\")\r\n",
        "  return sent2"
      ],
      "execution_count": 16,
      "outputs": []
    },
    {
      "cell_type": "code",
      "metadata": {
        "colab": {
          "base_uri": "https://localhost:8080/"
        },
        "id": "iXxKk_xXvpA6",
        "outputId": "aae4fd9c-1c37-4cab-fc35-cf925e34ef7c"
      },
      "source": [
        "sent = input(\"Enter the sentence: I love with playing python: \") #asking user for input\r\n",
        "print(replaceOccur(sent))"
      ],
      "execution_count": 18,
      "outputs": [
        {
          "output_type": "stream",
          "text": [
            "Enter the sentence: I love with playing python: python is a snake and i hate python\n",
            "Pythons is a snake and i hate Pythons\n"
          ],
          "name": "stdout"
        }
      ]
    }
  ]
}